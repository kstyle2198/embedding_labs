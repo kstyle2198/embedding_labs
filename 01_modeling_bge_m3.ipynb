{
 "cells": [
  {
   "cell_type": "code",
   "execution_count": 1,
   "metadata": {},
   "outputs": [
    {
     "name": "stderr",
     "output_type": "stream",
     "text": [
      "d:\\embedding_lab\\.venv\\Lib\\site-packages\\tqdm\\auto.py:21: TqdmWarning: IProgress not found. Please update jupyter and ipywidgets. See https://ipywidgets.readthedocs.io/en/stable/user_install.html\n",
      "  from .autonotebook import tqdm as notebook_tqdm\n"
     ]
    }
   ],
   "source": [
    "import torch\n",
    "import torch.nn as nn\n",
    "from transformers import XLMRobertaModel, XLMRobertaTokenizer\n",
    "\n",
    "class BGE_M3_Model(nn.Module):\n",
    "    def __init__(self):\n",
    "        super(BGE_M3_Model, self).__init__()\n",
    "        \n",
    "        # Pretrained XLM-RoBERTa Model\n",
    "        self.model = XLMRobertaModel.from_pretrained(\"D:/LLMs/xlm_roberta_large\")\n",
    "\n",
    "        # Tokenizer\n",
    "        self.tokenizer = XLMRobertaTokenizer.from_pretrained(\"xlm-roberta-large\")\n",
    "        \n",
    "        # Custom Pooler Layer\n",
    "        self.pooler = nn.Sequential(\n",
    "            nn.Linear(1024, 1024),\n",
    "            nn.Tanh()\n",
    "        )\n",
    "    \n",
    "    def forward(self, input_ids, attention_mask):\n",
    "        # Get hidden states from XLM-RoBERTa\n",
    "        outputs = self.model(input_ids=input_ids, attention_mask=attention_mask)\n",
    "        print(f\">>> outputs: {outputs}\")\n",
    "        print(\"\")\n",
    "        \n",
    "        # Extract the [CLS] token representation (first token)\n",
    "        cls_output = outputs.last_hidden_state[:, 0, :]\n",
    "        print(f\">>> cls_output: {cls_output}\")\n",
    "        print(\"\")\n",
    "        \n",
    "        # Apply Pooler\n",
    "        pooled_output = self.pooler(cls_output)\n",
    "        print(f\">>> pooled_output: {pooled_output}\")\n",
    "        print(\"\")\n",
    "        \n",
    "        return pooled_output\n",
    "    \n",
    "    def tokenize(self, text):\n",
    "        encoding = self.tokenizer(text, return_tensors=\"pt\", padding=True, truncation=True, max_length=512)\n",
    "        return encoding.input_ids, encoding.attention_mask\n",
    "    \n",
    "    def encode(self, text):\n",
    "        input_ids, attention_mask = self.tokenize(text)\n",
    "        with torch.no_grad():\n",
    "            return self.forward(input_ids, attention_mask)\n"
   ]
  },
  {
   "cell_type": "code",
   "execution_count": 2,
   "metadata": {},
   "outputs": [
    {
     "data": {
      "text/plain": [
       "BGE_M3_Model(\n",
       "  (model): XLMRobertaModel(\n",
       "    (embeddings): XLMRobertaEmbeddings(\n",
       "      (word_embeddings): Embedding(250002, 1024, padding_idx=1)\n",
       "      (position_embeddings): Embedding(514, 1024, padding_idx=1)\n",
       "      (token_type_embeddings): Embedding(1, 1024)\n",
       "      (LayerNorm): LayerNorm((1024,), eps=1e-05, elementwise_affine=True)\n",
       "      (dropout): Dropout(p=0.1, inplace=False)\n",
       "    )\n",
       "    (encoder): XLMRobertaEncoder(\n",
       "      (layer): ModuleList(\n",
       "        (0-23): 24 x XLMRobertaLayer(\n",
       "          (attention): XLMRobertaAttention(\n",
       "            (self): XLMRobertaSdpaSelfAttention(\n",
       "              (query): Linear(in_features=1024, out_features=1024, bias=True)\n",
       "              (key): Linear(in_features=1024, out_features=1024, bias=True)\n",
       "              (value): Linear(in_features=1024, out_features=1024, bias=True)\n",
       "              (dropout): Dropout(p=0.1, inplace=False)\n",
       "            )\n",
       "            (output): XLMRobertaSelfOutput(\n",
       "              (dense): Linear(in_features=1024, out_features=1024, bias=True)\n",
       "              (LayerNorm): LayerNorm((1024,), eps=1e-05, elementwise_affine=True)\n",
       "              (dropout): Dropout(p=0.1, inplace=False)\n",
       "            )\n",
       "          )\n",
       "          (intermediate): XLMRobertaIntermediate(\n",
       "            (dense): Linear(in_features=1024, out_features=4096, bias=True)\n",
       "            (intermediate_act_fn): GELUActivation()\n",
       "          )\n",
       "          (output): XLMRobertaOutput(\n",
       "            (dense): Linear(in_features=4096, out_features=1024, bias=True)\n",
       "            (LayerNorm): LayerNorm((1024,), eps=1e-05, elementwise_affine=True)\n",
       "            (dropout): Dropout(p=0.1, inplace=False)\n",
       "          )\n",
       "        )\n",
       "      )\n",
       "    )\n",
       "    (pooler): XLMRobertaPooler(\n",
       "      (dense): Linear(in_features=1024, out_features=1024, bias=True)\n",
       "      (activation): Tanh()\n",
       "    )\n",
       "  )\n",
       "  (pooler): Sequential(\n",
       "    (0): Linear(in_features=1024, out_features=1024, bias=True)\n",
       "    (1): Tanh()\n",
       "  )\n",
       ")"
      ]
     },
     "execution_count": 2,
     "metadata": {},
     "output_type": "execute_result"
    }
   ],
   "source": [
    "# Example Usage\n",
    "model = BGE_M3_Model()\n",
    "model\n"
   ]
  },
  {
   "cell_type": "code",
   "execution_count": 3,
   "metadata": {},
   "outputs": [
    {
     "name": "stdout",
     "output_type": "stream",
     "text": [
      ">>> outputs: BaseModelOutputWithPoolingAndCrossAttentions(last_hidden_state=tensor([[[-0.0364, -0.0348,  0.1285,  ..., -0.0790, -0.0497, -0.0362],\n",
      "         [-0.2560, -0.0290,  0.1498,  ...,  0.1685, -0.3806, -0.4544],\n",
      "         [ 0.0447, -0.0274,  0.1715,  ..., -0.0855, -0.3198,  0.2792],\n",
      "         ...,\n",
      "         [-0.0324, -0.1836,  0.2288,  ..., -0.2997,  0.1543, -0.1152],\n",
      "         [ 0.3107,  0.0774,  0.0876,  ..., -0.1311, -0.1208,  0.0194],\n",
      "         [ 0.3206, -0.0727,  0.1938,  ..., -0.0127,  0.0127,  0.0777]]]), pooler_output=tensor([[-0.7686, -0.5393,  0.5043,  ..., -0.6207,  0.3355,  0.1786]]), hidden_states=None, past_key_values=None, attentions=None, cross_attentions=None)\n",
      "\n",
      ">>> cls_output: tensor([[-0.0364, -0.0348,  0.1285,  ..., -0.0790, -0.0497, -0.0362]])\n",
      "\n",
      ">>> pooled_output: tensor([[-0.4496,  0.7625, -0.4266,  ...,  0.2662,  0.0914,  0.4274]])\n",
      "\n",
      "torch.Size([1, 1024]) <class 'torch.Tensor'>\n"
     ]
    }
   ],
   "source": [
    "text1 = \"The capital of japan is Tokyo\"\n",
    "embedding1 = model.encode(text1)\n",
    "print(embedding1.shape, type(embedding1))  # Should print torch.Size([1, 1024])"
   ]
  },
  {
   "cell_type": "code",
   "execution_count": 4,
   "metadata": {},
   "outputs": [
    {
     "data": {
      "text/plain": [
       "tensor([[-0.4496,  0.7625, -0.4266,  ...,  0.2662,  0.0914,  0.4274]])"
      ]
     },
     "execution_count": 4,
     "metadata": {},
     "output_type": "execute_result"
    }
   ],
   "source": [
    "embedding1"
   ]
  },
  {
   "cell_type": "code",
   "execution_count": 5,
   "metadata": {},
   "outputs": [
    {
     "name": "stdout",
     "output_type": "stream",
     "text": [
      ">>> outputs: BaseModelOutputWithPoolingAndCrossAttentions(last_hidden_state=tensor([[[-0.0352, -0.0268,  0.0817,  ..., -0.0737, -0.0758, -0.0591],\n",
      "         [ 0.2248, -0.2111, -0.0426,  ..., -0.0781,  0.0366,  0.0225],\n",
      "         [ 0.0754,  0.0504,  0.1091,  ..., -0.1356,  0.1786, -0.1975],\n",
      "         ...,\n",
      "         [ 0.0359, -0.1343, -0.0195,  ..., -0.0056, -0.0579,  0.0591],\n",
      "         [ 0.0249, -0.0988, -0.0211,  ..., -0.0679,  0.0269, -0.0064],\n",
      "         [ 0.2619, -0.1069,  0.1486,  ..., -0.0265,  0.0730,  0.1024]]]), pooler_output=tensor([[-0.7595, -0.5494,  0.5127,  ..., -0.6208,  0.3494,  0.1805]]), hidden_states=None, past_key_values=None, attentions=None, cross_attentions=None)\n",
      "\n",
      ">>> cls_output: tensor([[-0.0352, -0.0268,  0.0817,  ..., -0.0737, -0.0758, -0.0591]])\n",
      "\n",
      ">>> pooled_output: tensor([[-0.4414,  0.7664, -0.4240,  ...,  0.2640,  0.0903,  0.4524]])\n",
      "\n",
      "torch.Size([1, 1024]) <class 'torch.Tensor'>\n"
     ]
    }
   ],
   "source": [
    "text2 = \"일본의 수도는 도쿄입니다.\"\n",
    "embedding2 = model.encode(text2)\n",
    "print(embedding2.shape, type(embedding2))"
   ]
  },
  {
   "cell_type": "code",
   "execution_count": 6,
   "metadata": {},
   "outputs": [],
   "source": [
    "def normalized_dot_product(tensor1, tensor2):\n",
    "    # 내적 계산\n",
    "    dot = torch.matmul(tensor1, tensor2.T)\n",
    "    \n",
    "    # 벡터의 크기 계산\n",
    "    norm1 = torch.norm(tensor1)\n",
    "    norm2 = torch.norm(tensor2)\n",
    "    \n",
    "    # 내적을 두 벡터의 크기의 곱으로 나누어 정규화\n",
    "    return dot / (norm1 * norm2)"
   ]
  },
  {
   "cell_type": "code",
   "execution_count": 7,
   "metadata": {},
   "outputs": [
    {
     "data": {
      "text/plain": [
       "tensor([[0.9992]])"
      ]
     },
     "execution_count": 7,
     "metadata": {},
     "output_type": "execute_result"
    }
   ],
   "source": [
    "result = normalized_dot_product(embedding1, embedding2)\n",
    "result\n"
   ]
  },
  {
   "cell_type": "code",
   "execution_count": 8,
   "metadata": {},
   "outputs": [
    {
     "name": "stdout",
     "output_type": "stream",
     "text": [
      ">>> outputs: BaseModelOutputWithPoolingAndCrossAttentions(last_hidden_state=tensor([[[-0.0351,  0.0265,  0.0827,  ..., -0.0370, -0.0397, -0.0061],\n",
      "         [-0.0692, -0.3028,  0.0670,  ..., -0.3442,  0.0717,  0.0212],\n",
      "         [ 0.0102, -0.2053,  0.0080,  ...,  0.0345,  0.2458, -0.0304],\n",
      "         [ 0.0167, -0.1853, -0.0502,  ...,  0.0148,  0.1555,  0.0926],\n",
      "         [ 0.0952, -0.0982,  0.1613,  ...,  0.0381,  0.0117,  0.1077]]]), pooler_output=tensor([[-0.7648, -0.5135,  0.4977,  ..., -0.6362,  0.3577,  0.1871]]), hidden_states=None, past_key_values=None, attentions=None, cross_attentions=None)\n",
      "\n",
      ">>> cls_output: tensor([[-0.0351,  0.0265,  0.0827,  ..., -0.0370, -0.0397, -0.0061]])\n",
      "\n",
      ">>> pooled_output: tensor([[-0.4699,  0.7829, -0.4168,  ...,  0.2519,  0.0724,  0.4455]])\n",
      "\n",
      ">>> outputs: BaseModelOutputWithPoolingAndCrossAttentions(last_hidden_state=tensor([[[-0.0529, -0.0350,  0.1240,  ..., -0.0478, -0.0526,  0.0187],\n",
      "         [-0.0719, -0.1806,  0.0343,  ..., -0.0123,  0.1048, -0.1020],\n",
      "         [-0.5123, -0.1037, -0.0474,  ...,  0.1893,  0.1138,  0.0494],\n",
      "         [-0.1881, -0.4371,  0.1064,  ..., -0.2037, -0.1626, -0.3017],\n",
      "         [ 0.1375, -0.0314,  0.1003,  ...,  0.0952, -0.0269, -0.0357]]]), pooler_output=tensor([[-0.7664, -0.5213,  0.4790,  ..., -0.6240,  0.3357,  0.1993]]), hidden_states=None, past_key_values=None, attentions=None, cross_attentions=None)\n",
      "\n",
      ">>> cls_output: tensor([[-0.0529, -0.0350,  0.1240,  ..., -0.0478, -0.0526,  0.0187]])\n",
      "\n",
      ">>> pooled_output: tensor([[-0.4636,  0.7893, -0.4010,  ...,  0.2029,  0.0790,  0.4228]])\n",
      "\n"
     ]
    },
    {
     "data": {
      "text/plain": [
       "tensor([[0.9995]])"
      ]
     },
     "execution_count": 8,
     "metadata": {},
     "output_type": "execute_result"
    }
   ],
   "source": [
    "text1 = \"I like him\"\n",
    "text2 = \"we love you\"\n",
    "\n",
    "embedding1 = model.encode(text1)\n",
    "embedding2 = model.encode(text2)\n",
    "\n",
    "result = normalized_dot_product(embedding1, embedding2)\n",
    "result"
   ]
  },
  {
   "cell_type": "code",
   "execution_count": null,
   "metadata": {},
   "outputs": [],
   "source": []
  }
 ],
 "metadata": {
  "kernelspec": {
   "display_name": ".venv",
   "language": "python",
   "name": "python3"
  },
  "language_info": {
   "codemirror_mode": {
    "name": "ipython",
    "version": 3
   },
   "file_extension": ".py",
   "mimetype": "text/x-python",
   "name": "python",
   "nbconvert_exporter": "python",
   "pygments_lexer": "ipython3",
   "version": "3.12.6"
  }
 },
 "nbformat": 4,
 "nbformat_minor": 2
}
